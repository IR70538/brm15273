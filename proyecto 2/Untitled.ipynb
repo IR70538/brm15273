{
 "cells": [
  {
   "cell_type": "code",
   "execution_count": null,
   "id": "d6040ad0-e08c-4398-b86f-409c6f6f1129",
   "metadata": {},
   "outputs": [],
   "source": [
    "import pandas as pd"
   ]
  },
  {
   "cell_type": "code",
   "execution_count": null,
   "id": "ba7f8791-9cd4-4865-b423-508f2e8781b1",
   "metadata": {},
   "outputs": [],
   "source": []
  }
 ],
 "metadata": {
  "kernelspec": {
   "display_name": "",
   "name": ""
  },
  "language_info": {
   "name": ""
  }
 },
 "nbformat": 4,
 "nbformat_minor": 5
}
